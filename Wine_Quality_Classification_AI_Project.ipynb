{
 "cells": [
  {
   "cell_type": "markdown",
   "id": "7be7447d",
   "metadata": {},
   "source": [
    "# 🍷 Wine Quality Classification - AI Project\n",
    "This project follows the full ML pipeline with fuzzy logic and decision tree tuning as per the requirements."
   ]
  },
  {
   "cell_type": "markdown",
   "id": "d71538c5",
   "metadata": {},
   "source": [
    "## 📥 1. Load Dataset and Train/Test Split"
   ]
  },
  {
   "cell_type": "code",
   "execution_count": null,
   "id": "fa9f550a",
   "metadata": {},
   "outputs": [
    {
     "ename": "",
     "evalue": "",
     "output_type": "error",
     "traceback": [
      "\u001b[1;31mRunning cells with 'Python 3.11.9' requires the ipykernel package.\n",
      "\u001b[1;31m<a href='command:jupyter.createPythonEnvAndSelectController'>Create a Python Environment</a> with the required packages.\n",
      "\u001b[1;31mOr install 'ipykernel' using the command: 'c:/Users/shiko-store/AppData/Local/Microsoft/WindowsApps/python3.11.exe -m pip install ipykernel -U --user --force-reinstall'"
     ]
    }
   ],
   "source": [
    "\n",
    "import pandas as pd\n",
    "from sklearn.model_selection import train_test_split\n",
    "\n",
    "# Load the dataset (change the path if necessary)\n",
    "df = pd.read_csv(\"https://archive.ics.uci.edu/ml/machine-learning-databases/wine-quality/winequality-red.csv\", sep=';')\n",
    "df.head()\n",
    "    "
   ]
  },
  {
   "cell_type": "markdown",
   "id": "bf3b0c24",
   "metadata": {},
   "source": [
    "## 🧹 2. Clean Missing Values and Remove Duplicates"
   ]
  },
  {
   "cell_type": "code",
   "execution_count": null,
   "id": "084b462b",
   "metadata": {},
   "outputs": [],
   "source": [
    "\n",
    "# Check and handle missing values\n",
    "print(\"Missing values:\\n\", df.isnull().sum())\n",
    "df.dropna(inplace=True)\n",
    "\n",
    "# Check and drop duplicates\n",
    "print(\"Duplicate rows:\", df.duplicated().sum())\n",
    "df.drop_duplicates(inplace=True)\n",
    "    "
   ]
  },
  {
   "cell_type": "markdown",
   "id": "abc650db",
   "metadata": {},
   "source": [
    "## 📊 3. Exploratory Plots (Training Set)"
   ]
  },
  {
   "cell_type": "code",
   "execution_count": null,
   "id": "e7ad3620",
   "metadata": {},
   "outputs": [],
   "source": [
    "\n",
    "import seaborn as sns\n",
    "import matplotlib.pyplot as plt\n",
    "\n",
    "# Train/Test split\n",
    "X = df.drop('quality', axis=1)\n",
    "y = df['quality']\n",
    "X_train, X_test, y_train, y_test = train_test_split(X, y, test_size=0.2, random_state=42, stratify=y)\n",
    "\n",
    "# Visualize feature distributions\n",
    "X_train.hist(bins=20, figsize=(15, 10))\n",
    "plt.tight_layout()\n",
    "plt.show()\n",
    "    "
   ]
  },
  {
   "cell_type": "markdown",
   "id": "df409b77",
   "metadata": {},
   "source": [
    "## 🔄 4. Scale Numeric Features"
   ]
  },
  {
   "cell_type": "code",
   "execution_count": null,
   "id": "de93d843",
   "metadata": {},
   "outputs": [],
   "source": [
    "\n",
    "from sklearn.preprocessing import MinMaxScaler\n",
    "\n",
    "scaler = MinMaxScaler()\n",
    "X_train_scaled = pd.DataFrame(scaler.fit_transform(X_train), columns=X_train.columns)\n",
    "X_test_scaled = pd.DataFrame(scaler.transform(X_test), columns=X_test.columns)\n",
    "    "
   ]
  },
  {
   "cell_type": "markdown",
   "id": "b45c1e52",
   "metadata": {},
   "source": [
    "## 🌫️ 5. Create Fuzzy Features"
   ]
  },
  {
   "cell_type": "code",
   "execution_count": null,
   "id": "65a91e48",
   "metadata": {},
   "outputs": [],
   "source": [
    "\n",
    "import numpy as np\n",
    "\n",
    "def triangular(x, a, b, c):\n",
    "    return np.maximum(np.minimum((x - a) / (b - a), (c - x) / (c - b)), 0)\n",
    "\n",
    "# Example on two features\n",
    "for feature in ['alcohol', 'sulphates']:\n",
    "    X_train_scaled[f'{feature}_low'] = triangular(X_train_scaled[feature], X_train_scaled[feature].min(), X_train_scaled[feature].min(), X_train_scaled[feature].mean())\n",
    "    X_train_scaled[f'{feature}_medium'] = triangular(X_train_scaled[feature], X_train_scaled[feature].min(), X_train_scaled[feature].mean(), X_train_scaled[feature].max())\n",
    "    X_train_scaled[f'{feature}_high'] = triangular(X_train_scaled[feature], X_train_scaled[feature].mean(), X_train_scaled[feature].max(), X_train_scaled[feature].max())\n",
    "\n",
    "# Apply same for test set\n",
    "for feature in ['alcohol', 'sulphates']:\n",
    "    X_test_scaled[f'{feature}_low'] = triangular(X_test_scaled[feature], X_train_scaled[feature].min(), X_train_scaled[feature].min(), X_train_scaled[feature].mean())\n",
    "    X_test_scaled[f'{feature}_medium'] = triangular(X_test_scaled[feature], X_train_scaled[feature].min(), X_train_scaled[feature].mean(), X_train_scaled[feature].max())\n",
    "    X_test_scaled[f'{feature}_high'] = triangular(X_test_scaled[feature], X_train_scaled[feature].mean(), X_train_scaled[feature].max(), X_train_scaled[feature].max())\n",
    "    "
   ]
  },
  {
   "cell_type": "markdown",
   "id": "1184c035",
   "metadata": {},
   "source": [
    "## 🌳 6. Train Decision Tree and Hill-Climbing Optimization"
   ]
  },
  {
   "cell_type": "code",
   "execution_count": null,
   "id": "4d4f028c",
   "metadata": {},
   "outputs": [],
   "source": [
    "\n",
    "from sklearn.tree import DecisionTreeClassifier\n",
    "from sklearn.metrics import accuracy_score\n",
    "\n",
    "best_depth = 1\n",
    "best_score = 0\n",
    "scores = []\n",
    "\n",
    "for depth in range(1, 11):\n",
    "    clf = DecisionTreeClassifier(max_depth=depth, random_state=42)\n",
    "    clf.fit(X_train_scaled, y_train)\n",
    "    val_score = clf.score(X_train_scaled, y_train)\n",
    "    scores.append((depth, val_score))\n",
    "    if val_score > best_score:\n",
    "        best_score = val_score\n",
    "        best_depth = depth\n",
    "\n",
    "print(\"Hill Climbing Best Depth:\", best_depth)\n",
    "    "
   ]
  },
  {
   "cell_type": "markdown",
   "id": "a1c62cee",
   "metadata": {},
   "source": [
    "## 🔍 7. Compare with Brute-Force Grid Search"
   ]
  },
  {
   "cell_type": "code",
   "execution_count": null,
   "id": "dea1b3a5",
   "metadata": {},
   "outputs": [],
   "source": [
    "\n",
    "# Brute-force Grid Search\n",
    "from sklearn.model_selection import GridSearchCV\n",
    "\n",
    "param_grid = {'max_depth': list(range(1, 11))}\n",
    "grid_search = GridSearchCV(DecisionTreeClassifier(random_state=42), param_grid, cv=5)\n",
    "grid_search.fit(X_train_scaled, y_train)\n",
    "\n",
    "print(\"Grid Search Best Depth:\", grid_search.best_params_['max_depth'])\n",
    "    "
   ]
  },
  {
   "cell_type": "markdown",
   "id": "e98c98f2",
   "metadata": {},
   "source": [
    "## 🌲 8. Visualize Final Tree"
   ]
  },
  {
   "cell_type": "code",
   "execution_count": null,
   "id": "99ef7dcf",
   "metadata": {},
   "outputs": [],
   "source": [
    "\n",
    "from sklearn.tree import plot_tree\n",
    "\n",
    "final_clf = DecisionTreeClassifier(max_depth=grid_search.best_params_['max_depth'], random_state=42)\n",
    "final_clf.fit(X_train_scaled, y_train)\n",
    "\n",
    "plt.figure(figsize=(20, 10))\n",
    "plot_tree(final_clf, feature_names=X_train_scaled.columns, class_names=[str(c) for c in sorted(y_train.unique())], filled=True)\n",
    "plt.show()\n",
    "    "
   ]
  },
  {
   "cell_type": "markdown",
   "id": "66a3561e",
   "metadata": {},
   "source": [
    "## 📈 9. Evaluate on Test Set"
   ]
  },
  {
   "cell_type": "code",
   "execution_count": null,
   "id": "440fb370",
   "metadata": {},
   "outputs": [],
   "source": [
    "\n",
    "from sklearn.metrics import classification_report, confusion_matrix\n",
    "\n",
    "y_pred = final_clf.predict(X_test_scaled)\n",
    "print(\"Accuracy:\", accuracy_score(y_test, y_pred))\n",
    "print(\"\\nClassification Report:\\n\", classification_report(y_test, y_pred))\n",
    "print(\"\\nConfusion Matrix:\\n\", confusion_matrix(y_test, y_pred))\n",
    "    "
   ]
  }
 ],
 "metadata": {
  "kernelspec": {
   "display_name": "Python 3",
   "language": "python",
   "name": "python3"
  },
  "language_info": {
   "name": "python",
   "version": "3.11.9"
  }
 },
 "nbformat": 4,
 "nbformat_minor": 5
}
